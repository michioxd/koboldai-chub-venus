{
  "nbformat": 4,
  "nbformat_minor": 0,
  "metadata": {
    "colab": {
      "provenance": [],
      "gpuType": "T4"
    },
    "kernelspec": {
      "name": "python3",
      "display_name": "Python 3"
    },
    "language_info": {
      "name": "python"
    },
    "accelerator": "GPU"
  },
  "cells": [
    {
      "cell_type": "markdown",
      "source": [
        "# KoboldAI for Chub Venus on Google Colab\n",
        "\n",
        "By [michioxd](https://github.com/michioxd)\n",
        "\n",
        "## Usage\n",
        "\n",
        "### Browser setup\n",
        "\n",
        "Because the CORS very stupid so we need disable them in Chromium (Chrome and another Chromium-based is fine but still recommend Chromium)\n",
        "\n",
        "[Download Chromium](https://chromium.woolyss.com)\n",
        "\n",
        "Linux:\n",
        "```shell\n",
        "chromium-browser --disable-web-security --user-data-dir=\"[some directory here]\"\n",
        "```\n",
        "\n",
        "Windows:\n",
        "- Right click to Chromium shortcut > Properties\n",
        "- At Target, add this:\n",
        "\n",
        "```powershell\n",
        " --disable-web-security --user-data-dir=\"[some directory here]\"\n",
        "```\n",
        "\n",
        "It should be look like this:\n",
        "\n",
        "```powershell\n",
        "C:\\Users\\Administrator\\AppData\\Local\\Chromium\\Application\\chrome.exe --disable-web-security --user-data-dir=\"[some directory here]\"\n",
        "```\n",
        "\n",
        "Remember to change [some directory here] to another directory.\n",
        "\n",
        "Like:\n",
        "\n",
        "```\n",
        "C:\\Users\\<yourusername>\\ChromiumData\n",
        "or\n",
        "/home/<yourusername>/ChromiumData\n",
        "```\n",
        "\n",
        "### Cloudflare Tunnels Setup\n",
        "\n",
        "- Go to [Zero Trust](https://one.dash.cloudflare.com)\n",
        "- In sidebar, click Access > Tunnels\n",
        "- Click Create a tunnel\n",
        "- Name your tunel, then click Next\n",
        "- Copy token (random string) from installation guide:\n",
        "```shell\n",
        "sudo cloudflared service install <TOKEN>\n",
        "```\n",
        "- Paste to cfToken\n",
        "- Click next \n",
        "- Public hostname:\n",
        "\n",
        "  Choose a domain (and subdomain if you want)\n",
        "\n",
        "  **Remember:** Path must be empty\n",
        "\n",
        "- Service section:\n",
        "\n",
        "  **Type**: HTTP\n",
        "\n",
        "  **URL**: `127.0.0.1:5000`\n",
        "\n",
        "- Click Save tunnel\n",
        "\n",
        "### Google Colab\n",
        "\n",
        "Click in the given order\n",
        "\n",
        "### Chub Venus setup\n",
        "\n",
        "Remember to run Chub Venus in already disabled CORS browser\n",
        "\n",
        "- Go to API Settings (click hambuger dropdown button)\n",
        "- At API, select KoboldAI\n",
        "- KoboldAI API URL set to your public hostname\n",
        "- Click Check KoboldAI then click Save Settings\n",
        "\n",
        "## KoboldAI still run in Read Only mode\n",
        "\n",
        "- Go to your public hostname\n",
        "- Click to AI button\n",
        "- Select to another Modal, you can try (NFSW Models > Erebus 2.7B (NSFW))\n",
        "\n",
        "**PLEASE NOTE:** Google only give 15GB VRAM"
      ],
      "metadata": {
        "id": "IV6q3r_8s7n5"
      }
    },
    {
      "cell_type": "code",
      "source": [
        "#@title <-- Tap this if you play on Mobile { display-mode: \"form\" }\n",
        "%%html\n",
        "<b>Press play on the music player to keep the tab alive, then start KoboldAI below (Uses only 13MB of data)</b><br/>\n",
        "<audio src=\"https://raw.githubusercontent.com/KoboldAI/KoboldAI-Client/main/colab/silence.m4a\" controls>"
      ],
      "metadata": {
        "id": "cuVUB5edtfNx"
      },
      "execution_count": null,
      "outputs": []
    },
    {
      "cell_type": "code",
      "source": [
        "#@title 1. Install\n",
        "!git clone https://github.com/henk717/KoboldAI\n",
        "!wget https://github.com/cloudflare/cloudflared/releases/latest/download/cloudflared-linux-amd64.deb && dpkg -i ./cloudflared-linux-amd64.deb && apt install screen"
      ],
      "metadata": {
        "id": "XM43Q_KMTpUM",
        "cellView": "form"
      },
      "execution_count": null,
      "outputs": []
    },
    {
      "cell_type": "code",
      "source": [
        "#@title 2. Install Cloudflare service - Remember paste your CF Token\n",
        "cfToken = \"\" #@param {type:\"string\"}\n",
        "!sudo cloudflared service uninstall && sudo cloudflared service install {cfToken}"
      ],
      "metadata": {
        "id": "gYys_FxCcG1N",
        "cellView": "form",
        "colab": {
          "base_uri": "https://localhost:8080/"
        },
        "outputId": "6d7233ad-ae26-4d87-94a5-7ee63aa42f03"
      },
      "execution_count": 45,
      "outputs": []
    },
    {
      "cell_type": "code",
      "source": [
        "#@title 3. Run this to start Cloudflare session\n",
        "!screen -dmS my_session cloudflared tunnel --url http://127.0.0.1:5000"
      ],
      "metadata": {
        "id": "T9LpVecWWkxS",
        "cellView": "form"
      },
      "execution_count": 46,
      "outputs": []
    },
    {
      "cell_type": "code",
      "source": [
        "#@title [Optional] Run this to end Cloudflare session\n",
        "!screen -X -S my_session quit"
      ],
      "metadata": {
        "id": "nFwKww4-aJBc",
        "cellView": "form"
      },
      "execution_count": null,
      "outputs": []
    },
    {
      "cell_type": "code",
      "execution_count": null,
      "metadata": {
        "colab": {
          "base_uri": "https://localhost:8080/"
        },
        "id": "NsqRX0yvsHI1",
        "outputId": "b51d6d15-bf0a-4166-80f0-6a94a11f292c",
        "cellView": "form"
      },
      "outputs": [],
      "source": [
        "#@title 4. Start\n",
        "!cd KoboldAI && ./play.sh"
      ]
    }
  ]
}
